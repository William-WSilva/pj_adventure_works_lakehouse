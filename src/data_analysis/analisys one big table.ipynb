{
 "cells": [
  {
   "cell_type": "code",
   "execution_count": 0,
   "metadata": {
    "application/vnd.databricks.v1+cell": {
     "cellMetadata": {},
     "inputWidgets": {},
     "nuid": "360ca087-4915-446a-a63f-04a532a7cb28",
     "showTitle": false,
     "tableResultSettingsMap": {},
     "title": ""
    }
   },
   "outputs": [],
   "source": [
    "import pyspark.sql.functions as F"
   ]
  },
  {
   "cell_type": "code",
   "execution_count": 0,
   "metadata": {
    "application/vnd.databricks.v1+cell": {
     "cellMetadata": {
      "byteLimit": 2048000,
      "rowLimit": 10000
     },
     "inputWidgets": {},
     "nuid": "85302d0c-2887-47e8-91bd-2377f4503147",
     "showTitle": false,
     "tableResultSettingsMap": {},
     "title": ""
    }
   },
   "outputs": [],
   "source": [
    "# Carregar a tabela do Databricks\n",
    "df_databricks = spark.read.table(\"adventure_works_ouro.OneBigTable\")\n"
   ]
  },
  {
   "cell_type": "code",
   "execution_count": 0,
   "metadata": {
    "application/vnd.databricks.v1+cell": {
     "cellMetadata": {
      "byteLimit": 2048000,
      "rowLimit": 10000
     },
     "inputWidgets": {},
     "nuid": "33b086fc-6929-4eb3-a552-da7d0e5bdad4",
     "showTitle": false,
     "tableResultSettingsMap": {},
     "title": ""
    }
   },
   "outputs": [],
   "source": [
    "df_databricks = spark.read.table(\"adventure_works_ouro.OneBigTable\")\n",
    "\n",
    "\n",
    "# Configurações da conexão\n",
    "jdbc_hostname = \"sqldb-study-lakehouse-server.database.windows.net\"\n",
    "jdbc_port = 1433\n",
    "database_name = \"AdventureWorks2022\"\n",
    "jdbc_url = f\"jdbc:sqlserver://{jdbc_hostname}:{jdbc_port};database={database_name}\"\n",
    "username = 'APRENDER_DADOS_READ' \n",
    "password = 'SW4N0FW!D0Xd4W&Rt7'  \n",
    "\n",
    "# Configurações de autenticação\n",
    "connection_properties = {\n",
    "    \"user\": username,\n",
    "    \"password\": password,\n",
    "    \"driver\": \"com.microsoft.sqlserver.jdbc.SQLServerDriver\"\n",
    "}\n",
    "\n",
    "# Query para ler a tabela no banco de dados SQL Server\n",
    "query = \"SELECT * FROM sales.OneBigTable\"\n",
    "\n",
    "df_sql = (spark.read\n",
    "    .format(\"jdbc\")\n",
    "    .option(\"url\", jdbc_url)\n",
    "    .option(\"query\", query)\n",
    "    .option(\"user\", username)\n",
    "    .option(\"password\", password)\n",
    "    .load())\n",
    "\n",
    "    \n"
   ]
  },
  {
   "cell_type": "code",
   "execution_count": 0,
   "metadata": {
    "application/vnd.databricks.v1+cell": {
     "cellMetadata": {
      "byteLimit": 2048000,
      "rowLimit": 10000
     },
     "inputWidgets": {},
     "nuid": "5fa0620d-20cd-426f-8646-db4a3e8eb06b",
     "showTitle": false,
     "tableResultSettingsMap": {},
     "title": ""
    }
   },
   "outputs": [],
   "source": [
    "# Encontrar registros no Databricks que não estão no SQL Server\n",
    "missing_in_sql = df_databricks.join(\n",
    "    df_sql,\n",
    "    on=[\"SalesOrderID\", \"SalesOrderDetailID\"],\n",
    "    how=\"left_anti\"\n",
    ")\n",
    "\n",
    "if missing_in_sql.count() > 0:\n",
    "    print(\"Registros presentes no Databricks, mas ausentes no SQL Server:\")\n",
    "    missing_in_sql.show(truncate=False)\n",
    "else:\n",
    "    print(\"Nenhum registro exclusivo no Databricks.\")\n"
   ]
  },
  {
   "cell_type": "code",
   "execution_count": 0,
   "metadata": {
    "application/vnd.databricks.v1+cell": {
     "cellMetadata": {
      "byteLimit": 2048000,
      "rowLimit": 10000
     },
     "inputWidgets": {},
     "nuid": "e7997cfa-8313-4555-be4c-afa8fdd2f208",
     "showTitle": false,
     "tableResultSettingsMap": {},
     "title": ""
    }
   },
   "outputs": [],
   "source": [
    "# Encontrar registros no SQL Server que não estão no Databricks\n",
    "missing_in_databricks = df_sql.join(\n",
    "    df_databricks,\n",
    "    on=[\"SalesOrderID\", \"SalesOrderDetailID\"],\n",
    "    how=\"left_anti\"\n",
    ")\n",
    "\n",
    "if missing_in_databricks.count() > 0:\n",
    "    print(\"Registros presentes no SQL Server, mas ausentes no Databricks:\")\n",
    "    missing_in_databricks.show(truncate=False)\n",
    "else:\n",
    "    print(\"Nenhum registro exclusivo no SQL Server.\")\n"
   ]
  },
  {
   "cell_type": "code",
   "execution_count": 0,
   "metadata": {
    "application/vnd.databricks.v1+cell": {
     "cellMetadata": {
      "byteLimit": 2048000,
      "rowLimit": 10000
     },
     "inputWidgets": {},
     "nuid": "b1588a12-01ff-4a7a-8f38-0ba9f7c7d50f",
     "showTitle": false,
     "tableResultSettingsMap": {},
     "title": ""
    }
   },
   "outputs": [],
   "source": [
    "# Fazer o join completo para comparar os valores\n",
    "comparison_df = df_databricks.alias(\"databricks\").join(\n",
    "    df_sql.alias(\"sql\"),\n",
    "    on=[\"SalesOrderID\", \"SalesOrderDetailID\"],\n",
    "    how=\"inner\"\n",
    ")\n",
    "\n",
    "# Encontrar diferenças nas colunas\n",
    "differences = comparison_df.select(\n",
    "    *[\n",
    "        F.when(\n",
    "            F.col(f\"databricks.{col}\") != F.col(f\"sql.{col}\"), \n",
    "            F.struct(F.col(f\"databricks.{col}\").alias(\"Databricks\"), F.col(f\"sql.{col}\").alias(\"SQL Server\"))\n",
    "        ).alias(col)\n",
    "        for col in df_databricks.columns if col not in [\"SalesOrderID\", \"SalesOrderDetailID\"]\n",
    "    ]\n",
    ")\n",
    "\n",
    "# Filtrar linhas onde há diferenças\n",
    "differences_df = differences.filter(\n",
    "    F.greatest(*[F.col(col).isNotNull() for col in differences.columns])\n",
    ")\n",
    "\n",
    "if differences_df.count() > 0:\n",
    "    print(\"Diferenças encontradas entre os valores das colunas:\")\n",
    "    differences_df.show(truncate=False)\n",
    "else:\n",
    "    print(\"Não foram encontradas diferenças nos valores das colunas.\")\n"
   ]
  },
  {
   "cell_type": "code",
   "execution_count": 0,
   "metadata": {
    "application/vnd.databricks.v1+cell": {
     "cellMetadata": {},
     "inputWidgets": {},
     "nuid": "2f21a5cc-df2a-4b97-b348-af66009122ec",
     "showTitle": false,
     "tableResultSettingsMap": {},
     "title": ""
    }
   },
   "outputs": [],
   "source": []
  },
  {
   "cell_type": "code",
   "execution_count": 0,
   "metadata": {
    "application/vnd.databricks.v1+cell": {
     "cellMetadata": {
      "byteLimit": 2048000,
      "rowLimit": 10000
     },
     "inputWidgets": {},
     "nuid": "76e5766e-fc83-4514-b822-599b46ec9436",
     "showTitle": false,
     "tableResultSettingsMap": {},
     "title": ""
    }
   },
   "outputs": [],
   "source": []
  },
  {
   "cell_type": "code",
   "execution_count": 0,
   "metadata": {
    "application/vnd.databricks.v1+cell": {
     "cellMetadata": {
      "byteLimit": 2048000,
      "rowLimit": 10000
     },
     "inputWidgets": {},
     "nuid": "c59e98d2-6d3e-44f1-ba8c-8f7e3c70267f",
     "showTitle": false,
     "tableResultSettingsMap": {},
     "title": ""
    }
   },
   "outputs": [],
   "source": [
    "print(\"Colunas no DataFrame do Databricks:\")\n",
    "print(df_databricks.columns)\n",
    "\n",
    "print(\"\\nColunas no DataFrame do SQL Server:\")\n",
    "print(df_sql.columns)\n"
   ]
  },
  {
   "cell_type": "code",
   "execution_count": 0,
   "metadata": {
    "application/vnd.databricks.v1+cell": {
     "cellMetadata": {
      "byteLimit": 2048000,
      "rowLimit": 10000
     },
     "inputWidgets": {},
     "nuid": "74276986-7c37-426c-82cd-d983773842d6",
     "showTitle": false,
     "tableResultSettingsMap": {},
     "title": ""
    }
   },
   "outputs": [],
   "source": [
    "# Resetar o índice para transformar as colunas do índice em colunas normais\n",
    "df_sql = df_sql.reset_index(drop=True)\n",
    "print(\"Colunas após reset do índice no DataFrame do SQL Server:\")\n",
    "print(df_sql.columns)\n"
   ]
  },
  {
   "cell_type": "code",
   "execution_count": 0,
   "metadata": {
    "application/vnd.databricks.v1+cell": {
     "cellMetadata": {
      "byteLimit": 2048000,
      "rowLimit": 10000
     },
     "inputWidgets": {},
     "nuid": "a99b95ab-351a-4e68-a1fe-5809fb68b657",
     "showTitle": false,
     "tableResultSettingsMap": {},
     "title": ""
    }
   },
   "outputs": [],
   "source": [
    "# Encontrar registros no Databricks que não estão no SQL Server\n",
    "missing_in_sql = df_databricks.join(\n",
    "    df_sql,\n",
    "    on=[\"SalesOrderID\", \"SalesOrderDetailID\"],\n",
    "    how=\"left_anti\"\n",
    ")\n",
    "\n",
    "if missing_in_sql.count() > 0:\n",
    "    print(\"Registros presentes no Databricks, mas ausentes no SQL Server:\")\n",
    "    missing_in_sql.show(truncate=False)\n",
    "else:\n",
    "    print(\"Nenhum registro exclusivo no Databricks.\")\n",
    "\n",
    "# Encontrar registros no SQL Server que não estão no Databricks\n",
    "missing_in_databricks = df_sql.join(\n",
    "    df_databricks,\n",
    "    on=[\"SalesOrderID\", \"SalesOrderDetailID\"],\n",
    "    how=\"left_anti\"\n",
    ")\n",
    "\n",
    "if missing_in_databricks.count() > 0:\n",
    "    print(\"Registros presentes no SQL Server, mas ausentes no Databricks:\")\n",
    "    missing_in_databricks.show(truncate=False)\n",
    "else:\n",
    "    print(\"Nenhum registro exclusivo no SQL Server.\")\n"
   ]
  },
  {
   "cell_type": "code",
   "execution_count": 0,
   "metadata": {
    "application/vnd.databricks.v1+cell": {
     "cellMetadata": {},
     "inputWidgets": {},
     "nuid": "8982692f-085b-41e5-9e54-d5d3d8d822a2",
     "showTitle": false,
     "tableResultSettingsMap": {},
     "title": ""
    }
   },
   "outputs": [],
   "source": []
  },
  {
   "cell_type": "code",
   "execution_count": 0,
   "metadata": {
    "application/vnd.databricks.v1+cell": {
     "cellMetadata": {},
     "inputWidgets": {},
     "nuid": "a3632cbc-1944-414c-8a73-404e83c89b13",
     "showTitle": false,
     "tableResultSettingsMap": {},
     "title": ""
    }
   },
   "outputs": [],
   "source": []
  },
  {
   "cell_type": "code",
   "execution_count": 0,
   "metadata": {
    "application/vnd.databricks.v1+cell": {
     "cellMetadata": {
      "byteLimit": 2048000,
      "rowLimit": 10000
     },
     "inputWidgets": {},
     "nuid": "fb0066a4-2234-4525-a3e3-0833ffae9139",
     "showTitle": false,
     "tableResultSettingsMap": {},
     "title": ""
    }
   },
   "outputs": [],
   "source": [
    "# Verificar se os DataFrames são iguais\n",
    "comparison_result = df_databricks.equals(df_sql)\n",
    "\n",
    "if comparison_result:\n",
    "    print(\"Os dados do Databricks e do SQL Server são iguais.\")\n",
    "else:\n",
    "    print(\"Discrepâncias encontradas entre os dados do Databricks e do SQL Server.\")\n"
   ]
  },
  {
   "cell_type": "code",
   "execution_count": 0,
   "metadata": {
    "application/vnd.databricks.v1+cell": {
     "cellMetadata": {
      "byteLimit": 2048000,
      "rowLimit": 10000
     },
     "inputWidgets": {},
     "nuid": "65cae6e7-866d-4062-89a7-d44d4529c1b4",
     "showTitle": false,
     "tableResultSettingsMap": {},
     "title": ""
    }
   },
   "outputs": [],
   "source": [
    "# Comparar os DataFrames e mostrar as diferenças\n",
    "differences = df_databricks.compare(df_sql)\n",
    "if not differences.empty:\n",
    "    print(\"Diferenças detalhadas:\")\n",
    "    print(differences)\n",
    "else:\n",
    "    print(\"Nenhuma diferença significativa encontrada.\")\n"
   ]
  },
  {
   "cell_type": "code",
   "execution_count": 0,
   "metadata": {
    "application/vnd.databricks.v1+cell": {
     "cellMetadata": {},
     "inputWidgets": {},
     "nuid": "2026684c-ae1d-4e4e-85ea-53d61b75edab",
     "showTitle": false,
     "tableResultSettingsMap": {},
     "title": ""
    }
   },
   "outputs": [],
   "source": []
  },
  {
   "cell_type": "code",
   "execution_count": 0,
   "metadata": {
    "application/vnd.databricks.v1+cell": {
     "cellMetadata": {
      "byteLimit": 2048000,
      "rowLimit": 10000
     },
     "inputWidgets": {},
     "nuid": "45f9c7a2-158a-4fda-b842-a5f0d47510fc",
     "showTitle": false,
     "tableResultSettingsMap": {},
     "title": ""
    }
   },
   "outputs": [],
   "source": []
  },
  {
   "cell_type": "code",
   "execution_count": 0,
   "metadata": {
    "application/vnd.databricks.v1+cell": {
     "cellMetadata": {
      "byteLimit": 2048000,
      "rowLimit": 10000
     },
     "inputWidgets": {},
     "nuid": "13ab47c0-7e9d-44bb-a884-fd311a38dfa1",
     "showTitle": false,
     "tableResultSettingsMap": {},
     "title": ""
    }
   },
   "outputs": [],
   "source": [
    "# Databricks\n",
    "products_sold_databricks = (df_databricks\n",
    "    .groupBy(\"ProductName\", \"ProductCategoryName\", \"ProductSubcategoryName\")\n",
    "    .agg(F.sum(\"OrderQty\").alias(\"TotalQuantitySold\"))\n",
    "    .orderBy(F.col(\"TotalQuantitySold\").desc())\n",
    ")\n",
    "\n",
    "# SQL Server\n",
    "products_sold_sql = (df_sql\n",
    "    .groupBy(\"ProductName\", \"ProductCategoryName\", \"ProductSubcategoryName\")\n",
    "    .agg(F.sum(\"OrderQty\").alias(\"TotalQuantitySold\"))\n",
    "    .orderBy(F.col(\"TotalQuantitySold\").desc())\n",
    ")\n",
    "\n",
    "# Mostrar os resultados\n",
    "print(\"Top Produtos Mais Vendidos - Databricks:\")\n",
    "products_sold_databricks.display()\n",
    "\n",
    "print(\"Top Produtos Mais Vendidos - SQL Server:\")\n",
    "products_sold_sql.display(\n",
    "\n",
    ")\n"
   ]
  },
  {
   "cell_type": "code",
   "execution_count": 0,
   "metadata": {
    "application/vnd.databricks.v1+cell": {
     "cellMetadata": {
      "byteLimit": 2048000,
      "rowLimit": 10000
     },
     "inputWidgets": {},
     "nuid": "50fc9164-9521-437e-9b76-c69e1b7eb9df",
     "showTitle": false,
     "tableResultSettingsMap": {},
     "title": ""
    }
   },
   "outputs": [],
   "source": [
    "# Databricks\n",
    "revenue_databricks = (df_databricks\n",
    "    .groupBy(\"ProductName\", \"ProductCategoryName\", \"ProductSubcategoryName\")\n",
    "    .agg(F.sum(\"LineTotal\").alias(\"TotalRevenue\"))\n",
    "    .orderBy(F.col(\"TotalRevenue\").desc())\n",
    ")\n",
    "\n",
    "# SQL Server\n",
    "revenue_sql = (df_sql\n",
    "    .groupBy(\"ProductName\", \"ProductCategoryName\", \"ProductSubcategoryName\")\n",
    "    .agg(F.sum(\"LineTotal\").alias(\"TotalRevenue\"))\n",
    "    .orderBy(F.col(\"TotalRevenue\").desc())\n",
    ")\n",
    "\n",
    "# Mostrar os resultados\n",
    "print(\"Top Produtos por Receita Total - Databricks:\")\n",
    "revenue_databricks.show(truncate=False)\n",
    "\n",
    "print(\"Top Produtos por Receita Total - SQL Server:\")\n",
    "revenue_sql.show(truncate=False)\n"
   ]
  },
  {
   "cell_type": "code",
   "execution_count": 0,
   "metadata": {
    "application/vnd.databricks.v1+cell": {
     "cellMetadata": {
      "byteLimit": 2048000,
      "rowLimit": 10000
     },
     "inputWidgets": {},
     "nuid": "b5829a28-eb21-4f77-ad17-6a55e3995147",
     "showTitle": false,
     "tableResultSettingsMap": {},
     "title": ""
    }
   },
   "outputs": [],
   "source": [
    "# Databricks\n",
    "revenue_by_category_databricks = (df_databricks\n",
    "    .groupBy(\"ProductCategoryName\")\n",
    "    .agg(\n",
    "        F.sum(\"LineTotal\").alias(\"TotalRevenue\"),\n",
    "        F.countDistinct(\"ProductName\").alias(\"UniqueProducts\")\n",
    "    )\n",
    "    .orderBy(F.col(\"TotalRevenue\").desc())\n",
    ")\n",
    "\n",
    "# SQL Server\n",
    "revenue_by_category_sql = (df_sql\n",
    "    .groupBy(\"ProductCategoryName\")\n",
    "    .agg(\n",
    "        F.sum(\"LineTotal\").alias(\"TotalRevenue\"),\n",
    "        F.countDistinct(\"ProductName\").alias(\"UniqueProducts\")\n",
    "    )\n",
    "    .orderBy(F.col(\"TotalRevenue\").desc())\n",
    ")\n",
    "\n",
    "# Mostrar os resultados\n",
    "print(\"Receita por Categoria - Databricks:\")\n",
    "revenue_by_category_databricks.show(truncate=False)\n",
    "\n",
    "print(\"Receita por Categoria - SQL Server:\")\n",
    "revenue_by_category_sql.show(truncate=False)\n"
   ]
  },
  {
   "cell_type": "code",
   "execution_count": 0,
   "metadata": {
    "application/vnd.databricks.v1+cell": {
     "cellMetadata": {
      "byteLimit": 2048000,
      "rowLimit": 10000
     },
     "inputWidgets": {},
     "nuid": "43943763-5b4c-4b43-8487-c7859de9ebcb",
     "showTitle": false,
     "tableResultSettingsMap": {},
     "title": ""
    }
   },
   "outputs": [],
   "source": [
    "from pyspark.sql import functions as F\n",
    "\n",
    "def compare_aggregations(databricks_df, sql_df, group_by_cols, agg_col, agg_func, agg_alias):\n",
    "    \"\"\"\n",
    "    Função para comparar agregações entre Databricks e SQL Server.\n",
    "    Mostra os resultados lado a lado com a diferença entre eles.\n",
    "    \n",
    "    Parâmetros:\n",
    "    - databricks_df: DataFrame no Databricks.\n",
    "    - sql_df: DataFrame do SQL Server.\n",
    "    - group_by_cols: Lista de colunas de agrupamento.\n",
    "    - agg_col: Coluna a ser agregada.\n",
    "    - agg_func: Função de agregação (ex: F.sum).\n",
    "    - agg_alias: Nome do resultado da agregação.\n",
    "    \"\"\"\n",
    "    # Agregação no Databricks\n",
    "    result_databricks = (databricks_df\n",
    "        .groupBy(group_by_cols)\n",
    "        .agg(agg_func(agg_col).alias(agg_alias))\n",
    "    )\n",
    "    \n",
    "    # Agregação no SQL Server\n",
    "    result_sql = (sql_df\n",
    "        .groupBy(group_by_cols)\n",
    "        .agg(agg_func(agg_col).alias(agg_alias))\n",
    "    )\n",
    "    \n",
    "    # Join entre os resultados\n",
    "    comparison_df = result_databricks.alias(\"databricks\").join(\n",
    "        result_sql.alias(\"sql\"),\n",
    "        on=group_by_cols,\n",
    "        how=\"inner\"\n",
    "    ).select(\n",
    "        *group_by_cols,\n",
    "        F.col(f\"databricks.{agg_alias}\").alias(f\"Databricks_{agg_alias}\"),\n",
    "        F.col(f\"sql.{agg_alias}\").alias(f\"SQL_{agg_alias}\"),\n",
    "        (F.col(f\"databricks.{agg_alias}\") - F.col(f\"sql.{agg_alias}\")).alias(\"Difference\")\n",
    "    )\n",
    "\n",
    "    # Mostrar os resultados\n",
    "    comparison_df.display()\n",
    "\n",
    "# ----- CONSULTAS -----\n",
    "\n",
    "# 1. Produtos Mais Vendidos (Quantidade Total)\n",
    "compare_aggregations(\n",
    "    databricks_df=df_databricks,\n",
    "    sql_df=df_sql,\n",
    "    group_by_cols=[\"ProductName\", \"ProductCategoryName\", \"ProductSubcategoryName\"],\n",
    "    agg_col=\"OrderQty\",\n",
    "    agg_func=F.sum,\n",
    "    agg_alias=\"TotalQuantitySold\"\n",
    ")\n",
    "\n",
    "# 2. Produtos com Maior Receita Total\n",
    "compare_aggregations(\n",
    "    databricks_df=df_databricks,\n",
    "    sql_df=df_sql,\n",
    "    group_by_cols=[\"ProductName\", \"ProductCategoryName\", \"ProductSubcategoryName\"],\n",
    "    agg_col=\"LineTotal\",\n",
    "    agg_func=F.sum,\n",
    "    agg_alias=\"TotalRevenue\"\n",
    ")\n",
    "\n",
    "# 3. Receita por Categoria\n",
    "compare_aggregations(\n",
    "    databricks_df=df_databricks,\n",
    "    sql_df=df_sql,\n",
    "    group_by_cols=[\"ProductCategoryName\"],\n",
    "    agg_col=\"LineTotal\",\n",
    "    agg_func=F.sum,\n",
    "    agg_alias=\"TotalRevenue\"\n",
    ")\n",
    "\n",
    "# 4. Subcategorias com Maior Venda em Volume\n",
    "compare_aggregations(\n",
    "    databricks_df=df_databricks,\n",
    "    sql_df=df_sql,\n",
    "    group_by_cols=[\"ProductSubcategoryName\", \"ProductCategoryName\"],\n",
    "    agg_col=\"OrderQty\",\n",
    "    agg_func=F.sum,\n",
    "    agg_alias=\"TotalQuantity\"\n",
    ")\n",
    "\n",
    "# 5. Clientes que Mais Compraram (Receita)\n",
    "compare_aggregations(\n",
    "    databricks_df=df_databricks,\n",
    "    sql_df=df_sql,\n",
    "    group_by_cols=[\"CustomerName\"],\n",
    "    agg_col=\"LineTotal\",\n",
    "    agg_func=F.sum,\n",
    "    agg_alias=\"TotalCustomerRevenue\"\n",
    ")\n",
    "\n",
    "# 6. Produtos com Maior Desconto Aplicado\n",
    "compare_aggregations(\n",
    "    databricks_df=df_databricks.filter(F.col(\"UnitPriceDiscount\") > 0),\n",
    "    sql_df=df_sql.filter(F.col(\"UnitPriceDiscount\") > 0),\n",
    "    group_by_cols=[\"ProductName\", \"ProductCategoryName\", \"ProductSubcategoryName\"],\n",
    "    agg_col=\"UnitPriceDiscount\",\n",
    "    agg_func=F.sum,\n",
    "    agg_alias=\"TotalDiscountGiven\"\n",
    ")\n",
    "\n",
    "# 7. Tendência Mensal de Vendas (Receita)\n",
    "compare_aggregations(\n",
    "    databricks_df=df_databricks,\n",
    "    sql_df=df_sql,\n",
    "    group_by_cols=[F.year(\"OrderDate\").alias(\"Year\"), F.month(\"OrderDate\").alias(\"Month\")],\n",
    "    agg_col=\"LineTotal\",\n",
    "    agg_func=F.sum,\n",
    "    agg_alias=\"MonthlyRevenue\"\n",
    ")\n"
   ]
  },
  {
   "cell_type": "code",
   "execution_count": 0,
   "metadata": {
    "application/vnd.databricks.v1+cell": {
     "cellMetadata": {},
     "inputWidgets": {},
     "nuid": "3157ffc1-f4c8-44bf-b511-672961978a52",
     "showTitle": false,
     "tableResultSettingsMap": {},
     "title": ""
    }
   },
   "outputs": [],
   "source": []
  }
 ],
 "metadata": {
  "application/vnd.databricks.v1+notebook": {
   "computePreferences": null,
   "dashboards": [],
   "environmentMetadata": {
    "base_environment": "",
    "client": "1"
   },
   "language": "python",
   "notebookMetadata": {
    "pythonIndentUnit": 4
   },
   "notebookName": "analisys one big table",
   "widgets": {}
  },
  "language_info": {
   "name": "python"
  }
 },
 "nbformat": 4,
 "nbformat_minor": 0
}
